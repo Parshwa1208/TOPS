{
 "cells": [
  {
   "cell_type": "code",
   "execution_count": null,
   "metadata": {},
   "outputs": [
    {
     "name": "stdout",
     "output_type": "stream",
     "text": [
      "                                           Bank Name                City  ST  \\\n",
      "0                                Fayette County Bank          Saint Elmo  IL   \n",
      "1  Guaranty Bank, (d/b/a BestBank in Georgia & Mi...           Milwaukee  WI   \n",
      "2                                     First NBC Bank         New Orleans  LA   \n",
      "3                                      Proficio Bank  Cottonwood Heights  UT   \n",
      "4                      Seaway Bank and Trust Company             Chicago  IL   \n",
      "\n",
      "    CERT                Acquiring Institution Closing Date Updated Date  \n",
      "0   1802            United Fidelity Bank, fsb    26-May-17    26-Jul-17  \n",
      "1  30003  First-Citizens Bank & Trust Company     5-May-17    26-Jul-17  \n",
      "2  58302                         Whitney Bank    28-Apr-17    26-Jul-17  \n",
      "3  35495                    Cache Valley Bank     3-Mar-17    18-May-17  \n",
      "4  19328                  State Bank of Texas    27-Jan-17    18-May-17  \n",
      "Index(['Bank Name', 'City', 'ST', 'CERT', 'Acquiring Institution',\n",
      "       'Closing Date', 'Updated Date'],\n",
      "      dtype='object')\n",
      "The number of states are 44\n",
      "The list of states are ['IL' 'WI' 'LA' 'UT' 'NJ' 'AR' 'GA' 'PA' 'TN' 'WA' 'CO' 'PR' 'FL' 'MN'\n",
      " 'CA' 'MD' 'OK' 'OH' 'SC' 'VA' 'ID' 'TX' 'CT' 'AZ' 'NV' 'NC' 'KY' 'MO'\n",
      " 'KS' 'AL' 'MI' 'IN' 'IA' 'NE' 'MS' 'NM' 'OR' 'NY' 'MA' 'SD' 'WY' 'WV'\n",
      " 'NH' 'HI']\n",
      "TOP-5 States with most failed bank are ST\n",
      "GA    93\n",
      "FL    75\n",
      "IL    68\n",
      "CA    41\n",
      "MN    23\n",
      "Name: count, dtype: int64\n",
      "The TOP-5 acquring Institutions are Acquiring Institution\n",
      "No Acquirer                            31\n",
      "State Bank and Trust Company           12\n",
      "First-Citizens Bank & Trust Company    11\n",
      "Ameris Bank                            10\n",
      "U.S. Bank N.A.                          9\n",
      "Name: count, dtype: int64\n"
     ]
    }
   ],
   "source": [
    "import pandas as pd\n",
    "banks=pd.read_csv('banklist.csv')\n",
    "# Showing the head of the dataframe\n",
    "head=banks.head()\n",
    "print(head)\n",
    "# Showing the name of the columns\n",
    "column=banks.columns\n",
    "print(column)\n",
    "banks.head(10)\n",
    "no_of_states=banks['ST'].nunique()\n",
    "print(\"The number of states are\",no_of_states)\n",
    "a=banks[\"ST\"].unique()\n",
    "print('The list of states are',a)\n",
    "# top-s states with most failed bank\n",
    "failed=banks[\"ST\"].value_counts().head(5)\n",
    "print('TOP-5 States with most failed bank are',failed)\n",
    "# Get top-5 acquiring institution\n",
    "acquring=banks[\"Acquiring Institution\"].value_counts().head(5)\n",
    "print('The TOP-5 acquring Institutions are',acquring)\n",
    "\n"
   ]
  },
  {
   "cell_type": "code",
   "execution_count": 64,
   "metadata": {},
   "outputs": [
    {
     "name": "stdout",
     "output_type": "stream",
     "text": [
      "The number of banks the state bank of etxas acquire are 3\n",
      "Most commom city in california for a bank to fall in is City\n",
      "Los Angeles    4\n",
      "Name: count, dtype: int64\n"
     ]
    }
   ],
   "source": [
    "# How many banks the state bank of texas acquire.\n",
    "no_of_banks=banks[banks['Acquiring Institution']=='State Bank of Texas'].value_counts().shape[0]\n",
    "print(\"The number of banks the state bank of etxas acquire are\",no_of_banks)\n",
    "\n",
    "# What is the most common city in California for a bank to fail in ?\n",
    "# print(banks.head(15))\n",
    "california=banks[banks['ST']=='CA']\n",
    "commom_city=california['City'].value_counts().head(1)\n",
    "print('Most commom city in california for a bank to fall in is',commom_city)"
   ]
  }
 ],
 "metadata": {
  "kernelspec": {
   "display_name": "Python 3 (ipykernel)",
   "language": "python",
   "name": "python3"
  },
  "language_info": {
   "codemirror_mode": {
    "name": "ipython",
    "version": 3
   },
   "file_extension": ".py",
   "mimetype": "text/x-python",
   "name": "python",
   "nbconvert_exporter": "python",
   "pygments_lexer": "ipython3",
   "version": "3.12.6"
  }
 },
 "nbformat": 4,
 "nbformat_minor": 4
}
