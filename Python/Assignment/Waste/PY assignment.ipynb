{
 "cells": [
  {
   "cell_type": "code",
   "execution_count": 1,
   "metadata": {},
   "outputs": [
    {
     "name": "stdout",
     "output_type": "stream",
     "text": [
      "5 is Positive\n"
     ]
    }
   ],
   "source": [
    "#Write a Python program to check if a number is positive, negative or zero.\n",
    "num1= int(input(\"Enter the number:- \"))\n",
    "if num1==0:\n",
    "    print(num1,\"is zero\")\n",
    "elif num1>0:\n",
    "    print(num1,\"is Positive\")\n",
    "else:\n",
    "    print(num1,\"is negative\")"
   ]
  },
  {
   "cell_type": "code",
   "execution_count": null,
   "metadata": {},
   "outputs": [],
   "source": [
    "#Write a Python program to get the Factorial number of given numbers. \n",
    "num1=int(input(\"Enter the number:- \"))\n",
    "if num1>0:\n",
    "    for i in range (1,num1+1):\n",
    "        num1=num1*(num1-1)\n",
    "        print(num1)"
   ]
  }
 ],
 "metadata": {
  "kernelspec": {
   "display_name": "Python 3",
   "language": "python",
   "name": "python3"
  },
  "language_info": {
   "codemirror_mode": {
    "name": "ipython",
    "version": 3
   },
   "file_extension": ".py",
   "mimetype": "text/x-python",
   "name": "python",
   "nbconvert_exporter": "python",
   "pygments_lexer": "ipython3",
   "version": "3.10.5"
  }
 },
 "nbformat": 4,
 "nbformat_minor": 2
}
