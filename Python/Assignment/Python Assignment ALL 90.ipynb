{
 "cells": [
  {
   "cell_type": "code",
   "execution_count": null,
   "metadata": {},
   "outputs": [],
   "source": [
    "'''\n",
    "Q1. Types of Application\n",
    "A1. Applications can be classified into several categories, such as:\n",
    "\n",
    "Web Applications (e.g., Facebook, Gmail)\n",
    "Mobile Applications (e.g., Instagram, WhatsApp)\n",
    "Desktop Applications (e.g., Microsoft Word, Photoshop)\n",
    "Game Applications (e.g., PUBG, Minecraft)\n",
    "\n",
    "Q2. What is Programming?\n",
    "A2. Programming is a process of writing a block of code by the user in computer to excute a particular task\n",
    "\n",
    "Q3. What is Python?\n",
    "A3. It is a high level proogramming language which is both interpreted as well as complied both.\n",
    "   '''"
   ]
  },
  {
   "cell_type": "code",
   "execution_count": null,
   "metadata": {},
   "outputs": [
    {
     "name": "stdout",
     "output_type": "stream",
     "text": [
      "Positive number\n"
     ]
    }
   ],
   "source": [
    "#Q4. Python Program to Check if a Number is Positive, Negative, or Zero:\n",
    "\n",
    "num = int(input(\"Enter a number: \"))\n",
    "\n",
    "if num > 0:\n",
    "    print(num,\"is a Positive number\")\n",
    "elif num < 0:\n",
    "    print(num,\"is aNegative number\")\n",
    "else:\n",
    "    print(num,\"is Zero\")\n"
   ]
  },
  {
   "cell_type": "code",
   "execution_count": null,
   "metadata": {},
   "outputs": [
    {
     "name": "stdout",
     "output_type": "stream",
     "text": [
      "Factorial: 120\n"
     ]
    }
   ],
   "source": [
    "#Q5. Factorial of a given number\n",
    "\n",
    "def fact(n):\n",
    "    if n == 0 or n == 1:\n",
    "        return 1\n",
    "    return n * fact(n - 1)\n",
    "\n",
    "num = int(input(\"Enter a number: \"))\n",
    "print(\"Factorial:\", fact(num))\n"
   ]
  },
  {
   "cell_type": "code",
   "execution_count": null,
   "metadata": {},
   "outputs": [
    {
     "name": "stdout",
     "output_type": "stream",
     "text": [
      "0 1 1 2 3 "
     ]
    }
   ],
   "source": [
    "#Q6. Python Program to Get Fibonacci Series of a Given Range:\n",
    "\n",
    "def fibonacci(n):\n",
    "    a, b = 0, 1\n",
    "    for _ in range(n):\n",
    "        print(a, end=\" \")\n",
    "        a, b = b, a + b\n",
    "\n",
    "num = int(input(\"Enter the range: \"))\n",
    "fibonacci(num)\n"
   ]
  },
  {
   "cell_type": "code",
   "execution_count": null,
   "metadata": {},
   "outputs": [
    {
     "name": "stdout",
     "output_type": "stream",
     "text": [
      "2 1\n",
      "4 2\n"
     ]
    }
   ],
   "source": [
    "'''Q7.  How is Memory Managed in Python?\n",
    "   A7.  Python make use of atomatic garbage collection in which the object which are store in heap will get \n",
    "   deleted by itself if they are of no use or are overridden\n",
    "   \n",
    "   Q8. What is the Purpose of continue Statement in Python\n",
    "   A8. With the help of continue statement we can easily skip the continuing iteration and jump on next iteration.'''\n",
    "   \n",
    "#Q9. Python Program to Swap Two Numbers (With and Without Temp Variable):\n",
    "\n",
    "a, b = 1, 2\n",
    "temp = a\n",
    "a = b\n",
    "b = temp\n",
    "print(a, b)  \n",
    "#OR\n",
    "a,b=2,4\n",
    "a,b=b,a\n",
    "print(a,b)\n"
   ]
  },
  {
   "cell_type": "code",
   "execution_count": null,
   "metadata": {},
   "outputs": [],
   "source": [
    "#Q10. Python program to check even or odd\n",
    "\n",
    "num=int(input(\"Enter the number\"))\n",
    "if num%2==0:\n",
    "    print(num,\"is even\")\n",
    "else:\n",
    "    print(num,\"is odd\")"
   ]
  },
  {
   "cell_type": "code",
   "execution_count": 6,
   "metadata": {},
   "outputs": [
    {
     "name": "stdout",
     "output_type": "stream",
     "text": [
      "It's not a vowel.\n"
     ]
    }
   ],
   "source": [
    "#Q11. Check if Letter is vowel or not\n",
    "\n",
    "letter = input(\"Enter a letter: \")\n",
    "\n",
    "if letter in 'aeiou':\n",
    "    print(\"It's a vowel.\")\n",
    "else:\n",
    "    print(\"It's not a vowel.\")\n"
   ]
  },
  {
   "cell_type": "code",
   "execution_count": 13,
   "metadata": {},
   "outputs": [
    {
     "name": "stdout",
     "output_type": "stream",
     "text": [
      "10\n"
     ]
    }
   ],
   "source": [
    "#Q12. Python Program to Sum Three Given Integers, but Return Zero if Two Values are Equal:\n",
    "\n",
    "a=int(input('Enter a number'))\n",
    "b=int(input('Enter a number'))\n",
    "c= int(input('Enter a number'))\n",
    "\n",
    "if a==b or a==c or b==c:\n",
    "    print(0)\n",
    "else:\n",
    "    d=a+b+c\n",
    "    print(d)"
   ]
  },
  {
   "cell_type": "code",
   "execution_count": 15,
   "metadata": {},
   "outputs": [
    {
     "name": "stdout",
     "output_type": "stream",
     "text": [
      "True\n"
     ]
    }
   ],
   "source": [
    "#Q13. Python Program to Return True if Two Integers are Equal, or Their Sum/Difference is 5:\n",
    "\n",
    "\n",
    "a=int(input('Enter a number'))\n",
    "b=int(input('Enter a number'))\n",
    "if a==b or (a-b)==5 or (a+b)==5:\n",
    "    print(True)"
   ]
  },
  {
   "cell_type": "code",
   "execution_count": 16,
   "metadata": {},
   "outputs": [
    {
     "name": "stdout",
     "output_type": "stream",
     "text": [
      "Sum: 15\n"
     ]
    }
   ],
   "source": [
    "#Q14. Python Program to Sum the First n Positive Integers:\n",
    "\n",
    "n = int(input(\"Enter a positive integer: \"))\n",
    "sum_n = (n * (n + 1)) // 2\n",
    "print(\"Sum:\", sum_n)\n"
   ]
  },
  {
   "cell_type": "code",
   "execution_count": 17,
   "metadata": {},
   "outputs": [
    {
     "name": "stdout",
     "output_type": "stream",
     "text": [
      "Length of string: 3\n"
     ]
    }
   ],
   "source": [
    "#Q15. Calculate the length of the string\n",
    "\n",
    "string = input(\"Enter a string: \")\n",
    "print(\"Length of string:\", len(string))\n"
   ]
  },
  {
   "cell_type": "code",
   "execution_count": null,
   "metadata": {},
   "outputs": [],
   "source": [
    "#Q16. What are Negative Indexes and Why Are They Used?\n",
    "#Negative indexes in Python allow you to access elements from the end of a sequence (like lists or strings).\n",
    "#The last element is indexed as -1, the second last as -2, and so on.\n",
    "#They are used for quick access to the end of a sequence without needing to calculate the length."
   ]
  },
  {
   "cell_type": "code",
   "execution_count": 18,
   "metadata": {},
   "outputs": [
    {
     "name": "stdout",
     "output_type": "stream",
     "text": [
      "Occurrences of 'par': 1\n"
     ]
    }
   ],
   "source": [
    "#Q18. Count occurance of substring in a string.\n",
    "string = input(\"Enter a string: \")\n",
    "substring = input(\"Enter a substring to count: \")\n",
    "\n",
    "count = string.count(substring)\n",
    "print(f\"Occurrences of '{substring}':\", count)\n",
    " "
   ]
  },
  {
   "cell_type": "code",
   "execution_count": 25,
   "metadata": {},
   "outputs": [
    {
     "name": "stdout",
     "output_type": "stream",
     "text": [
      "0\n"
     ]
    }
   ],
   "source": [
    "#Q19. Count each word in a sentence.\n",
    "\n",
    "sentence= input(\"Enter the sentence\")\n",
    "word=sentence.split()\n",
    "word=str(word)\n",
    "count= sentence.count(word)\n",
    "print(count)"
   ]
  },
  {
   "cell_type": "code",
   "execution_count": 30,
   "metadata": {},
   "outputs": [
    {
     "name": "stdout",
     "output_type": "stream",
     "text": [
      "hyuj\n"
     ]
    }
   ],
   "source": [
    "#Q20. Python Program to Get a Single String from Two Given Strings, Swap First Two Characters.\n",
    "\n",
    "str1=input(\"Enter the string\")\n",
    "str2=input(\"Enter the string\")\n",
    "a=str1[0]\n",
    "b=str2[0]\n",
    "a,b=b,a\n",
    "str3=str1 + str2\n",
    "print(str3)\n",
    "\n"
   ]
  },
  {
   "cell_type": "code",
   "execution_count": 39,
   "metadata": {},
   "outputs": [
    {
     "name": "stdout",
     "output_type": "stream",
     "text": [
      "hj\n"
     ]
    }
   ],
   "source": [
    "#Q21. Write a Python program to add 'in' at the end of a given string (length should be at least 3). \n",
    "# If the given string already ends with 'ing' then\n",
    "#add 'ly' instead if the string length of the given string is less than 3, leave it unchanged.  \n",
    "\n",
    "str1=str(input(\"Enter the string\"))\n",
    "if len(str1)>=3 and \"ing\" in str1:\n",
    "    print(str1+\"ly\")\n",
    "elif len(str1)>=3:\n",
    "    print(str1+\"in\")\n",
    "else:\n",
    "    print(str1)\n"
   ]
  },
  {
   "cell_type": "code",
   "execution_count": 43,
   "metadata": {},
   "outputs": [
    {
     "name": "stdout",
     "output_type": "stream",
     "text": [
      "Original string jhjh\n",
      "Result: hjhj\n"
     ]
    }
   ],
   "source": [
    "#Q22. Python Function to Reverse a String if its Length is a Multiple of 4\n",
    "\n",
    "def rev(s):\n",
    "    return s[::-1] if len(s) % 4 == 0 else s\n",
    "\n",
    "string = input(\"Enter a string: \")\n",
    "print(\"Original string\",string)\n",
    "print(\"Result:\", rev(string))\n"
   ]
  },
  {
   "cell_type": "code",
   "execution_count": 6,
   "metadata": {},
   "outputs": [
    {
     "name": "stdout",
     "output_type": "stream",
     "text": [
      "hello how\n",
      "heow\n"
     ]
    }
   ],
   "source": [
    "#Q23. Write a Python program to get a string made of the first 2 and the last 2 chars from a given a string. If the string length is less \n",
    "# than 2, return instead of the empty string.\n",
    "\n",
    "str1= input(\"Enter the string\")\n",
    "print(str1)\n",
    "if len(str1)>2:\n",
    "    print(str1[0:2]+str1[-2:])\n",
    "elif len(str1)<=2:\n",
    "    print(str1)"
   ]
  },
  {
   "cell_type": "code",
   "execution_count": 15,
   "metadata": {},
   "outputs": [
    {
     "data": {
      "text/plain": [
       "'hy hello'"
      ]
     },
     "execution_count": 15,
     "metadata": {},
     "output_type": "execute_result"
    }
   ],
   "source": [
    "#Q24. Write a Python function to insert a string in the middle of a string. \n",
    "\n",
    "def str():\n",
    "    str1=input(\"Enter the string\")\n",
    "    str2=input(\"Enter the string which you want to add in the middle\")\n",
    "    return (str1 +str2)\n",
    "str()"
   ]
  },
  {
   "cell_type": "code",
   "execution_count": null,
   "metadata": {},
   "outputs": [
    {
     "name": "stdout",
     "output_type": "stream",
     "text": [
      "[0, 1, 2, 3]\n",
      "9\n"
     ]
    },
    {
     "data": {
      "text/plain": [
       "4"
      ]
     },
     "execution_count": 26,
     "metadata": {},
     "output_type": "execute_result"
    }
   ],
   "source": [
    "''' Q25. What is list? How  will you reverse a list?\n",
    "    A25. List is an ordered and mutuable collection of items. it is denoted with [].It can be reversed using [::-1] \n",
    "    Q26. How will you remove the last object from the list?\n",
    "    A26. We can use list1.remove(number which is present at last)'''\n",
    "list1=[0,1,2,3,4]\n",
    "list1.remove(4)\n",
    "print(list1)\n",
    "list2=[7,8.9,8,9]\n",
    "a=list2.pop()\n",
    "print(a)\n",
    "#list2.remove(a)\n",
    "'''Q27. Suppose list1 is [2, 33, 222, 14, and 25], what is list1 [-1]? \n",
    "   A27. list1[-1] is the last item of the list1 i.e 25 '''\n",
    "list1=[2,3,4]\n",
    "list1[-1]\n",
    "'''Q28. Differentiate between append () and extend () methods? \n",
    "   A28. the \"append()\" method adds a single element to the end of a list, while the \"extend()\" method adds \n",
    "   multiple elements from an iterable (like another list, tuple, or string) to the end of a list\n",
    "    '''"
   ]
  },
  {
   "cell_type": "code",
   "execution_count": null,
   "metadata": {},
   "outputs": [
    {
     "name": "stdout",
     "output_type": "stream",
     "text": [
      "Matching strings count: 2\n",
      "Without duplicates: [1, 2, 3, 4, 5]\n",
      "Is list empty? True\n",
      "Have common member? True\n",
      "Squares list: [1, 4, 9, 16, 25, 676, 729, 784, 841, 900]\n",
      "Unique elements: [1, 2, 3, 4, 5]\n",
      "Converted string: Hello\n",
      "Random item: 10\n",
      "Second smallest number: 2\n",
      "Unique values: [1, 2, 3, 4, 5]\n"
     ]
    }
   ],
   "source": [
    "#Q29. Write a Python function to get the largest number, smallest num and sum of all from a list. \n",
    "\n",
    "def large():\n",
    "    a=max(list1)\n",
    "    print(a)\n",
    "    b=min(list1)\n",
    "    print(b)\n",
    "    return a,b\n",
    "list1=[1,2.3,5,555,45]\n",
    "\n",
    "#Q30. How will you compare two list?\n",
    "#Use the equality (==) operator to check if both lists have the same elements in the same order or else we have to sort it first.\n",
    "\n",
    "#Q31. Count strings where length is 2 or more and first and last character are same\n",
    "def count_matching_strings(words):\n",
    "    return sum(1 for word in words if len(word) >= 2 and word[0] == word[-1])\n",
    "words = [\"abc\", \"xyz\", \"aba\", \"1221\"]\n",
    "print(\"Matching strings count:\", count_matching_strings(words))\n",
    "\n",
    "# Q32. Remove duplicates from a list\n",
    "def remove_duplicates(lst):\n",
    "    return list(set(lst))\n",
    "numbers = [1, 2, 2, 3, 4, 4, 5]\n",
    "print(\"Without duplicates:\", remove_duplicates(numbers))\n",
    "\n",
    "# Q33. Check if a list is empty\n",
    "def is_list_empty(lst):\n",
    "    return len(lst) == 0\n",
    "empty_list = []\n",
    "print(\"Is list empty?\", is_list_empty(empty_list))\n",
    "\n",
    "# Q34. Check if two lists have at least one common member\n",
    "def have_common_member(lst1, lst2):\n",
    "    return not set(lst1).isdisjoint(set(lst2))\n",
    "list1, list2 = [1, 2, 3], [3, 4, 5]\n",
    "print(\"Have common member?\", have_common_member(list1, list2))\n",
    "\n",
    "# Q35. Generate a list of first and last 5 elements where values are squares of numbers from 1 to 30\n",
    "def squares_list():\n",
    "    squares = [x**2 for x in range(1, 31)]\n",
    "    return squares[:5] + squares[-5:]\n",
    "print(\"Squares list:\", squares_list())\n",
    "\n",
    "# Q36. Return a new list with unique elements of the first list\n",
    "def unique_elements(lst):\n",
    "    return list(set(lst))\n",
    "print(\"Unique elements:\", unique_elements(numbers))\n",
    "\n",
    "# Q37. Convert a list of characters into a string\n",
    "def list_to_string(char_list):\n",
    "    return ''.join(char_list)\n",
    "char_list = ['H', 'e', 'l', 'l', 'o']\n",
    "print(\"Converted string:\", list_to_string(char_list))\n",
    "\n",
    "# Q38. Select a random item from a list\n",
    "import random\n",
    "def random_item(lst):\n",
    "    return random.choice(lst) if lst else None\n",
    "random_list = [10, 20, 30, 40, 50]\n",
    "print(\"Random item:\", random_item(random_list))\n",
    "\n",
    "# Q39. Find the second smallest number in a list\n",
    "def second_smallest(lst):\n",
    "    unique_sorted = sorted(set(lst))\n",
    "    return unique_sorted[1] if len(unique_sorted) > 1 else None\n",
    "numbers2 = [5, 1, 8, 3, 2]\n",
    "print(\"Second smallest number:\", second_smallest(numbers2))\n",
    "\n",
    "# Q40. Get unique values from a list\n",
    "def unique_values(lst):\n",
    "    return list(set(lst))\n",
    "print(\"Unique values:\", unique_values(numbers))\n"
   ]
  },
  {
   "cell_type": "code",
   "execution_count": 2,
   "metadata": {},
   "outputs": [
    {
     "name": "stdout",
     "output_type": "stream",
     "text": [
      "nahi hai bhai\n",
      "1 2 3 4 5\n",
      "(1, 'a', True, [1, 2])\n"
     ]
    }
   ],
   "source": [
    "#Q41. check whether  list contain another sub list.\n",
    "\n",
    "list1=input(\"Enter the list\")\n",
    "list2=input(\"Enter the another list\")\n",
    "if list2 in list1:\n",
    "    print('TRUE')\n",
    "else:\n",
    "    print('nahi hai bhai')\n",
    "\n",
    "#Q42. Split a list into different varialble\n",
    "\n",
    "my_list = [1, 2, 3, 4, 5]\n",
    "a, b, c, d, e = my_list  \n",
    "\n",
    "print(a, b, c, d, e)  \n",
    "\n",
    "#Q43. Difference between List and tuple.\n",
    "''' List are mutable while tuples are not.\n",
    "    list can store a single element or item by itself without comma like tuple.\n",
    "    list can be created by [] while tuple can be created by ().\n",
    "    list uses more memory as compared to tuples.\n",
    "    list consists of more method than tuples.\n",
    "    '''\n",
    "\n",
    "#Q44. Create Tuple with different data types.\n",
    "\n",
    "a=(1,'a',True,[1,2])\n",
    "print(a)"
   ]
  },
  {
   "cell_type": "code",
   "execution_count": 12,
   "metadata": {},
   "outputs": [
    {
     "name": "stdout",
     "output_type": "stream",
     "text": [
      "[1, 2, 3]\n",
      "['a', 'b', 'c']\n",
      "[True, False, True]\n",
      "{1: 'A', 2: 'C'}\n",
      "{'name': 'Parshwa', 'age': 22, 'Tutz': 'Tops'}\n",
      "Ascending: {'banana': 1, 'apple': 3, 'cherry': 5}\n",
      "Descending: {'cherry': 5, 'apple': 3, 'banana': 1}\n",
      "{'a': 1, 'b': 2, 'c': 3, 'd': 4, 'e': 5, 'f': 6}\n",
      "{'a': 1, 'b': 2, 'c': 3, 'd': 4, 'e': 5, 'f': 6}\n"
     ]
    }
   ],
   "source": [
    "#Q45. unzip a list of tuples\n",
    "\n",
    "A = [(1, 'a', True), (2, 'b', False), (3, 'c', True)]\n",
    "numbers, letters, booleans = zip(*A)\n",
    "numbers = list(numbers)\n",
    "letters = list(letters)\n",
    "booleans = list(booleans)\n",
    "print(numbers)\n",
    "print(letters)   \n",
    "print(booleans)\n",
    "\n",
    "#Q46. convert a list of tuple into dictonary.\n",
    "\n",
    "A1=[(1,'A'),(2,\"C\")]\n",
    "type(A1)\n",
    "d=dict(A1)\n",
    "print(d)\n",
    "\n",
    "#Q47. Convert tuple into dictonary.\n",
    "\n",
    "A2 = ((\"name\", \"Parshwa\"), (\"age\", 22), (\"Tutz\", \"Tops\"))\n",
    "Z = dict(A2)\n",
    "print(Z)  \n",
    "\n",
    "#Q48. Sorting of Dictonary.\n",
    "\n",
    "C = {'apple': 3, 'banana': 1, 'cherry': 5}\n",
    "\n",
    "# Ascending order\n",
    "asc = dict(sorted(C.items(), key=lambda item: item[1]))\n",
    "print(\"Ascending:\", asc)\n",
    "\n",
    "# Descending order\n",
    "desc = dict(sorted(C.items(), key=lambda item: item[1], reverse=True))\n",
    "print(\"Descending:\", desc)\n",
    "\n",
    "#Q49. Concate Multiple Dictonary.\n",
    "dict1 = {'a': 1, 'b': 2}\n",
    "dict2 = {'c': 3, 'd': 4}\n",
    "dict3 = {'e': 5, 'f': 6}\n",
    "\n",
    "# Using dictionary unpacking\n",
    "merged = {**dict1, **dict2, **dict3}\n",
    "print(merged)\n",
    "\n",
    "# Using update()\n",
    "final_dict = {}\n",
    "for d in (dict1, dict2, dict3):\n",
    "    final_dict.update(d)\n",
    "print(final_dict)\n",
    "\n"
   ]
  },
  {
   "cell_type": "code",
   "execution_count": 17,
   "metadata": {},
   "outputs": [
    {
     "name": "stdout",
     "output_type": "stream",
     "text": [
      "'name' exists in the dictionary.\n",
      "name : Prashwa\n",
      "age : 22\n",
      "gender : male\n",
      "name -> Prashwa\n",
      "age -> 22\n",
      "gender -> male\n",
      "'name' exists in the dictionary.\n",
      "{1: 1, 2: 4, 3: 9, 4: 16, 5: 25, 6: 36, 7: 49, 8: 64, 9: 81, 10: 100, 11: 121, 12: 144, 13: 169, 14: 196, 15: 225}\n",
      "'{'age', 'name'}' exists in the dictionary.\n"
     ]
    }
   ],
   "source": [
    "#Q50. Check given key exists in Dict ot not.\n",
    "\n",
    "my_dict = {'name': 'Parshwa', 'age': 22, 'gender': 'male'}\n",
    "Check=input(\"Enter the name of key\")\n",
    "\n",
    "if Check in my_dict:\n",
    "    print(f\"'{Check}' exists in the dictionary.\")\n",
    "else:\n",
    "    print(f\"'{Check}' does not exist.\")\n",
    "\n",
    "#Q51. Traverse through the dict.\n",
    "\n",
    "my_dict = {'name': 'Prashwa', 'age': 22, 'gender': 'male'}\n",
    "for key in my_dict:\n",
    "    print(key, \":\", my_dict[key])\n",
    "\n",
    "# Another parameter to traverse. \n",
    "for key, value in my_dict.items():\n",
    "    print(f\"{key} -> {value}\")\n",
    "\n",
    "#Q52. check presence of key in dict.  \n",
    "  \n",
    "#SAME AS Q50.\n",
    "\n",
    "my_dict = {'name': 'Parshwa', 'age': 22, 'gender': 'male'}\n",
    "Check=input(\"Enter the name of key\")\n",
    "\n",
    "if Check in my_dict:\n",
    "    print(f\"'{Check}' exists in the dictionary.\")\n",
    "else:\n",
    "    print(f\"'{Check}' does not exist.\")\n",
    "\n",
    "#Q53. print a dictionary where the keys are numbers between 1 and 15. \n",
    "\n",
    "t = {x: x**2 for x in range(1, 16)}\n",
    "print(t)\n",
    "\n",
    "#Q54. Multiple key is present in dict or not.\n",
    "\n",
    "t = {'name': 'Parshwa', 'age': 22, 'gender': 'male'}\n",
    "Check={'name','age'}\n",
    "\n",
    "if Check.issubset(t.keys()):\n",
    "    print(f\"'{Check}' exists in the dictionary.\")\n",
    "else:\n",
    "    print(f\"'{Check}' does not exist.\")\n",
    "\n"
   ]
  },
  {
   "cell_type": "code",
   "execution_count": 18,
   "metadata": {},
   "outputs": [
    {
     "name": "stdout",
     "output_type": "stream",
     "text": [
      "{'a': 100, 'b': 200, 'c': 300, 'd': 400}\n",
      "{'a': 100, 'b': 200, 'c': 300, 'd': 400}\n"
     ]
    }
   ],
   "source": [
    "#Q55. Merge  two pyhton dict.\n",
    "\n",
    "dict1 = {'a': 100, 'b': 200}\n",
    "dict2 = {'c': 300, 'd': 400}\n",
    "merged_dict = {**dict1, **dict2}\n",
    "print(merged_dict)  \n",
    "dict1.update(dict2)\n",
    "print(dict1)  \n"
   ]
  },
  {
   "cell_type": "code",
   "execution_count": 24,
   "metadata": {},
   "outputs": [
    {
     "name": "stdout",
     "output_type": "stream",
     "text": [
      "120\n",
      "True\n",
      "False\n",
      "True\n",
      "True\n",
      "False\n",
      "NMAE is not a palindrome\n",
      "apple\n",
      "10\n",
      "5\n",
      "4\n",
      "0.22321073814882275\n",
      "95\n"
     ]
    }
   ],
   "source": [
    "#Q61.  Fuction to calculate factorial.\n",
    "\n",
    "def factorial(n):\n",
    "    if n == 0 or n == 1:\n",
    "        return 1\n",
    "    else:\n",
    "        return n * factorial(n - 1)\n",
    "\n",
    "print(factorial(5))  \n",
    "\n",
    "#Q62. Check if given number is in range.\n",
    "\n",
    "def in_range(n, start, end):\n",
    "    return start <= n <= end\n",
    "\n",
    "print(in_range(5, 1, 10))  \n",
    "print(in_range(15, 1, 10))  \n",
    "\n",
    "#Q63. Check if a number is a perfect number or not.\n",
    "\n",
    "def is_perfect(n):\n",
    "    return n == sum(i for i in range(1, n) if n % i == 0)\n",
    "\n",
    "print(is_perfect(6))   \n",
    "print(is_perfect(28))  \n",
    "print(is_perfect(12))  \n",
    "\n",
    "#Q64. Check string id palindrome or not.\n",
    "\n",
    "str2=str(input(\"Enter the string\"))\n",
    "if str2==str2[::-1]:\n",
    "    print(str2,\"is palindrome\")\n",
    "else:\n",
    "    print(str2,\"is not a palindrome\")\n",
    "\n",
    "#Q65. How Many Basic Types of Functions Are Available in Python?\n",
    "'''Python has four main types of functions:\n",
    "\n",
    "Built-in Functions (e.g., print(), len(), type())\n",
    "User-defined Functions (functions created using def)\n",
    "Lambda Functions (anonymous, single-line functions using lambda)\n",
    "Recursive Functions (functions that call themselves)'''\"PY assignment.ipynb\"\n",
    "\n",
    "#Q66. How can you pick a random item from a list or tuple?\n",
    "\n",
    "import random\n",
    "my_list = ['apple', 'banana', 'cherry']\n",
    "my_tuple = (10, 20, 30, 40)\n",
    "print(random.choice(my_list))  \n",
    "print(random.choice(my_tuple))  \n",
    "\n",
    "#Q67. Pick  a random item from the range.\n",
    "import random\n",
    "print(random.randrange(1, 10))  \n",
    "print(random.randint(1, 10))  \n",
    "\n",
    "#Q68. get a random number in pyhton.\n",
    " \n",
    "import random\n",
    "print(random.random()) \n",
    "\n",
    "#Q69. Get random number from a specific starting number.\n",
    "\n",
    "import random\n",
    "print(random.randint(1, 100))  \n",
    "\n",
    "#Q70. Randomize items in a list.\n",
    "\n",
    "import random\n",
    "l = [1, 2, 3, 4, 5]\n",
    "random.shuffle(l)\n",
    "print(l)  \n",
    "\n"
   ]
  },
  {
   "cell_type": "code",
   "execution_count": 31,
   "metadata": {},
   "outputs": [
    {
     "name": "stdout",
     "output_type": "stream",
     "text": [
      "Enter the content whatever u wantEnter the content whatever u want\n"
     ]
    }
   ],
   "source": [
    "#Q71. What is file fxn in python.\n",
    "\n",
    "'''open(filename, mode): Opens a file in a specific mode.\n",
    "write(): Writes data to a file.\n",
    "read(): Reads the file content.\n",
    "readline(), readlines(): Read one or multiple lines.\n",
    "close(): Closes the file.'''\n",
    "\n",
    "#Q72. Read an entire file content.\n",
    "try:\n",
    "    with open('text.txt','r') as f:\n",
    "        a=f.read()\n",
    "        print(a)\n",
    "except:\n",
    "    print(\"Nothing\")\n",
    "\n",
    "#Q73. Append a text in a file and display the content.\n",
    "\n",
    "with open('text.txt','a') as f:\n",
    "    f.write(\"Enter the content whatever u want\")\n",
    "\n",
    "with open('text.txt','r') as f:\n",
    "    f.read()"
   ]
  },
  {
   "cell_type": "code",
   "execution_count": 56,
   "metadata": {},
   "outputs": [
    {
     "name": "stdout",
     "output_type": "stream",
     "text": [
      "\n",
      "\n",
      "\n",
      "[]\n",
      "\n",
      "Number of lines: 0\n",
      "Counter()\n",
      "False\n",
      "EVEN\n",
      "Do whatever you want I am going to RUN\n",
      "ERROR:- it is an even number\n"
     ]
    }
   ],
   "source": [
    "#Q74. Read first N lines of file.\n",
    "\n",
    "def read_first_n_lines(filename, n):\n",
    "    with open(filename, \"r\") as file:\n",
    "        for _ in range(n):\n",
    "            print(file.readline().strip())\n",
    "read_first_n_lines(\"test.txt\", 3)\n",
    "\n",
    "#Q75. Read last N line of file.\n",
    "\n",
    "def LastNlines(fname, N):\n",
    "    with open(fname) as file:\n",
    "        for line in (file.readlines() [-N:]):\n",
    "            print(line, end ='')\n",
    "\n",
    "#Q76. Read file line by line.\n",
    "\n",
    "with open(\"test.txt\", \"r\") as file:\n",
    "    lines = file.readlines()\n",
    "print(lines)\n",
    "\n",
    "#Q77. Read file line by line.\n",
    "\n",
    "with open(\"test.txt\", \"r\") as file:\n",
    "    content = file.read()\n",
    "print(content)\n",
    "\n",
    "#Q78. \n",
    "\n",
    "\n",
    "\n",
    "#Q79. Count number of lines in a file. \n",
    "\n",
    "with open(\"test.txt\", \"r\") as file:\n",
    "    line_count = sum(1 for _ in file)\n",
    "\n",
    "print(\"Number of lines:\", line_count)\n",
    "\n",
    "#Q80. Count the frequency of word in a file.\n",
    "\n",
    "from collections import Counter\n",
    "with open(\"test.txt\", \"r\") as file:\n",
    "    words = file.read().split()\n",
    "word_count = Counter(words)\n",
    "print(word_count)\n",
    "\n",
    "#Q81. Store a list into the file.\n",
    "\n",
    "L1 = [\"Apple\", \"Banana\", \"Cherry\"]\n",
    "with open(\"output.txt\", \"w\") as file:\n",
    "    for item in L1:\n",
    "        file.write(item + \"\\n\")\n",
    "\n",
    "#Q82. Copy the content of a file in anothe file.\n",
    "\n",
    "with open(\"test.txt\", \"r\") as f, open(\"copy.txt\", \"w\") as f1:\n",
    "    f1.write(f.read())\n",
    "\n",
    "#Q83. Exception Handling & Errors in Python\n",
    "'''Exception handling allows handling runtime errors without crashing the program.\n",
    "Errors in Python can be:\n",
    "\n",
    "Syntax Errors: Incorrect Python syntax (print(\"Hello) - missing quote).\n",
    "Runtime Errors (Exceptions): Division by zero, file not found, etc.'''\n",
    "\n",
    "#Q84. How Many Except Statements Can a Try-Except Block Have?\n",
    "'''There is no limit; you can have multiple except statements'''\n",
    "\n",
    "#Q85. When Will the Else Part of Try-Except-Else Be Executed?\n",
    "''' The else block runs only if no exception occurs.'''\n",
    "\n",
    "#Q86. Can One Block of Except Statements Handle Multiple Exceptions?\n",
    "'''Yes, with the help of storing multiple exception in a tuple.'''\n",
    "\n",
    "#Q87.  When is the Finally Block Executed?\n",
    "''' The finally block runs no matter what (even if there is an exception)'''\n",
    "\n",
    "#Q88.  What Happens When '1' == 1 is Executed?\n",
    "'''It returns False because '1' (string) is not equal to 1 (integer).'''\n",
    "print('1'== 1)\n",
    "\n",
    "#Q89. How Do You Handle Exceptions with Try/Except?\n",
    "\n",
    "'''First make use of try: then write the code which you are thinking might create error then\n",
    "    ur expcept block will handle that error and lastly comes the finally block in which the code\n",
    "    will definetly going to execute even if error occur or not.'''\n",
    "\n",
    "try:\n",
    "    if 2%2==0:\n",
    "        print('EVEN')\n",
    "    else:\n",
    "        print('ODD')\n",
    "\n",
    "except:\n",
    "    print(\"It is an error\")\n",
    "finally:\n",
    "    print('Do whatever you want I am going to RUN')\n",
    "\n",
    "#Q90. Write python program that user to enter only odd numbers, else will raise an exception.\n",
    "class EvenError(Exception):\n",
    "    pass \n",
    "try:\n",
    "    n=int(input(\"Enter an odd number\"))\n",
    "    if n%2==0:\n",
    "        raise EvenError(\"ERROR:- it is an even number\")\n",
    "    print(\"it is an ODD number\",n)\n",
    "    \n",
    "except EvenError as E:\n",
    "    print(E)  "
   ]
  }
 ],
 "metadata": {
  "kernelspec": {
   "display_name": "Python 3",
   "language": "python",
   "name": "python3"
  },
  "language_info": {
   "codemirror_mode": {
    "name": "ipython",
    "version": 3
   },
   "file_extension": ".py",
   "mimetype": "text/x-python",
   "name": "python",
   "nbconvert_exporter": "python",
   "pygments_lexer": "ipython3",
   "version": "3.10.5"
  }
 },
 "nbformat": 4,
 "nbformat_minor": 2
}
